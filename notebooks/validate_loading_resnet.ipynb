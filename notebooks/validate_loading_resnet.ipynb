{
 "cells": [
  {
   "cell_type": "code",
   "execution_count": null,
   "id": "3b715ea4",
   "metadata": {},
   "outputs": [
    {
     "name": "stdout",
     "output_type": "stream",
     "text": [
      "[deps] Cargado ResNet101 v1.0.0 en cpu; input=224\n",
      "Modelo: ResNet\n",
      "Device: cpu\n",
      "Clases: ['cat', 'dog']\n"
     ]
    }
   ],
   "source": [
    "import os\n",
    "\n",
    "os.chdir(\"..\")\n",
    "print(\"CWD:\", os.getcwd())\n",
    "\n",
    "\n",
    "from src.api.deps import load_resources, get_model, get_device, get_class_names\n",
    "\n",
    "load_resources()\n",
    "print(\"Modelo:\", get_model().__class__.__name__)\n",
    "print(\"Device:\", get_device())\n",
    "print(\"Clases:\", get_class_names())"
   ]
  },
  {
   "cell_type": "code",
   "execution_count": 3,
   "id": "f17d76d2",
   "metadata": {},
   "outputs": [
    {
     "name": "stdout",
     "output_type": "stream",
     "text": [
      "Output shape: torch.Size([1, 2])\n"
     ]
    }
   ],
   "source": [
    "import torch\n",
    "\n",
    "x = torch.randn(1, 3, 224, 224)\n",
    "y = get_model()(x)\n",
    "print(\"Output shape:\", y.shape)"
   ]
  }
 ],
 "metadata": {
  "kernelspec": {
   "display_name": "deep_learning",
   "language": "python",
   "name": "python3"
  },
  "language_info": {
   "codemirror_mode": {
    "name": "ipython",
    "version": 3
   },
   "file_extension": ".py",
   "mimetype": "text/x-python",
   "name": "python",
   "nbconvert_exporter": "python",
   "pygments_lexer": "ipython3",
   "version": "3.11.13"
  }
 },
 "nbformat": 4,
 "nbformat_minor": 5
}
